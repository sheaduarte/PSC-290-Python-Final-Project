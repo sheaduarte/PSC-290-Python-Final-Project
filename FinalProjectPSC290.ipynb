{
 "cells": [
  {
   "cell_type": "markdown",
   "metadata": {},
   "source": [
    "# Crossmodal Capture Data Analysis"
   ]
  },
  {
   "cell_type": "markdown",
   "metadata": {},
   "source": [
    "I have pilot data for my first-year project (a multisensory attention study) and I want to create a data analysis pipleine that will allow me to import and clean my data, perform statistics, and visualize my results.  "
   ]
  },
  {
   "cell_type": "markdown",
   "metadata": {},
   "source": [
    "# Data Cleaning"
   ]
  },
  {
   "cell_type": "markdown",
   "metadata": {},
   "source": [
    "### Behavioral Data (PsychoPy output)\n",
    "1. Import data by having it search for all the CSV files in a given folder and concatenate them into a single dataframe\n",
    "2. Create a function that will calculate accuracy for each participant:\n",
    "\n",
    "def SubjectAccuracy(df):<br>\n",
    "count number of correct trials for each subject<br>\n",
    "count number of incorrect trials for each subject<br>\n",
    "calulate accuracy for each subject<br>\n",
    "return (dataframe that shows accuracy for each subject)\n",
    "\n",
    "3. Rename the variables in my dataframe to be easier to interpret, remove unnecessary columns\n",
    "4. Create a function that will remove outliers by participant by condition. E.g.:\n",
    "\n",
    "def RemoveOutliers(dataframe):<br>\n",
    "    for each condition, for each subject:<br>\n",
    "        calculate and remove trials with reaction times that are outliers (based on and interquartile range <br>\n",
    "        calculation)<br>\n",
    "    return (cleaned dataframe with outlier RT trials removed)<br>\n",
    "    \n",
    "5. Remove incorrect trials (or create two dataframes, one with and one without incorrect trials)"
   ]
  },
  {
   "cell_type": "markdown",
   "metadata": {},
   "source": [
    "### Eye-Tracking Data\n",
    "1. Import data by having it search for all the CSV files in a given folder and concatenate them into a single dataframe\n",
    "2. Rename columns to something more readable\n",
    "3. Create a function to turn the dataframe into something more manageable. EyeLink outputs multiple rows for each trial, so I just want one summary row for each trial (e.g., first fixation, latency) to facilitate merging with the behavioral dataframe, running stats and creating figures. Something like this:\n",
    "\n",
    "def EyeDataframeCleaner(df):<br>\n",
    "make a dataframe with columns for trial, participant, total # of fixations, dwell time on each fixation, latency, interest areas visited on first, second, and third fixations<br>\n",
    "return (TidyNewEyeTrackingDataframe)\n"
   ]
  },
  {
   "cell_type": "markdown",
   "metadata": {},
   "source": [
    "### Merge Behavioral and Eye-tracking Data\n",
    "Merge the two dataframes on participant and trial\n",
    "Output this nice dataframe to CSV"
   ]
  },
  {
   "cell_type": "markdown",
   "metadata": {},
   "source": [
    "# Data Analysis"
   ]
  },
  {
   "cell_type": "markdown",
   "metadata": {},
   "source": [
    "Since I do not have a full dataset yet, I do not want to over analyze these data, but I do want to create the pipeline for analysis once I can collect the rest. The analyses that I want to conduct based on these data are:\n",
    "1. For viewing purposes, look at mean reaction times, mean latency, most frequent first fixation, and mean dwell time on each fixation for each condition across subjects\n",
    "    - This will require me to create a dataframe/table that lists all of these summary statistics as columns with condition labels as rows\n",
    "2. Conduct a 3-way ANOVA for reaction time across 8 conditions (study is a 2x2x2 design)\n",
    "3. Test the difference in proportion of first saccades to each interest area by condition\n",
    "    - This will require me to create a function to calculate proportions of first saccades to each interest area by condition and test the differences between conditions. My function will look something like this:\n",
    "def FirstFixProportions(dataframe):<br>\n",
    "count first fixations to each interest area by condition<br>\n",
    "calculate the proportion of first fixations to each interest area by condition<br>\n",
    "return (dataframe of proportions of first saccades to each interest area by condition)<br>\n",
    "\n",
    "The first step in this can be made to fit different datasets for future use, the analyses for #\\s 2 and 3 may be more specific to this study"
   ]
  },
  {
   "cell_type": "markdown",
   "metadata": {},
   "source": [
    "# Figures"
   ]
  },
  {
   "cell_type": "markdown",
   "metadata": {},
   "source": [
    "1. Accuracy by condition\n",
    "    - Categorical bar plot with % accuracy on the y-axis and condition on the x-axis\n",
    "2. Proportion of first saccades made in the direction of the target or the distractor for each condition\n",
    "    - Create a stacked bar plot with conditions on the x-axis, and proportion of first saccades on the y-axis, which will add up to 100%\n",
    "3. Reaction time by condition\n",
    "    - bar plot with reaction time (in seconds) on the y-axis and condition on the x-axis\n",
    "4. Reaction time by condition for trials in which participants first fixate on the high probability target location (this is a little hard to explain without explaining the study)\n",
    "    - categorical bar plot, this will require me to subset data into trials where participants look at the high probability target location on their first fixation\n",
    "5. Reaction time by condition for trials in which participants first fixate on the low probability target location\n",
    "    - categorical bar plot, this will require me to subset data into trials where participants look at the low probability target location on their first fixation\n",
    "6. Plot reaction time by subject\n",
    "    - line plot to look at variability across participants\n",
    "7. Plot distributions of reaction times across conditions\n",
    "    - violin plots to look for systematic variability in different conditions\n",
    "8. Mean dwell time on first fixation by condition.\n",
    "    - categorical bar plot\n",
    "9. Mean latency by condition.\n",
    "    - categorical bar plot\n",
    "\n",
    "\n",
    "Because many of these plots will be categorical bar plots with condition labels on the x-axis and some time variable on the y-axis, I think it would be most efficient to create a function to make these plots that allows me to input arguments for data, y-axis variable, title, y-limit, and color palette. This would be cleaner code than reproducing very similar seaborn barplot functions that take up a lot of room. However, if this seems redundant given seaborn's capabilities, I might just create each one individually."
   ]
  },
  {
   "cell_type": "code",
   "execution_count": null,
   "metadata": {},
   "outputs": [],
   "source": []
  }
 ],
 "metadata": {
  "kernelspec": {
   "display_name": "Python 3",
   "language": "python",
   "name": "python3"
  },
  "language_info": {
   "codemirror_mode": {
    "name": "ipython",
    "version": 3
   },
   "file_extension": ".py",
   "mimetype": "text/x-python",
   "name": "python",
   "nbconvert_exporter": "python",
   "pygments_lexer": "ipython3",
   "version": "3.7.4"
  }
 },
 "nbformat": 4,
 "nbformat_minor": 2
}
