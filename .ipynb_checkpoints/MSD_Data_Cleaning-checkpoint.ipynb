{
 "cells": [
  {
   "cell_type": "markdown",
   "metadata": {},
   "source": [
    "# Crossmodal Capture Study Data Cleaning"
   ]
  },
  {
   "cell_type": "code",
   "execution_count": 1,
   "metadata": {},
   "outputs": [
    {
     "ename": "IndentationError",
     "evalue": "unindent does not match any outer indentation level (AnalysisHelper.py, line 52)",
     "output_type": "error",
     "traceback": [
      "Traceback \u001b[0;36m(most recent call last)\u001b[0m:\n",
      "  File \u001b[1;32m\"/Applications/anaconda3/lib/python3.7/site-packages/IPython/core/interactiveshell.py\"\u001b[0m, line \u001b[1;32m3326\u001b[0m, in \u001b[1;35mrun_code\u001b[0m\n    exec(code_obj, self.user_global_ns, self.user_ns)\n",
      "\u001b[0;36m  File \u001b[0;32m\"<ipython-input-1-4c0e15aa7dee>\"\u001b[0;36m, line \u001b[0;32m8\u001b[0;36m, in \u001b[0;35m<module>\u001b[0;36m\u001b[0m\n\u001b[0;31m    import AnalysisHelper as ah\u001b[0m\n",
      "\u001b[0;36m  File \u001b[0;32m\"/Users/sheaduarte/Desktop/School/PSC290python/PSC-290-Python-Final-Project/AnalysisHelper.py\"\u001b[0;36m, line \u001b[0;32m52\u001b[0m\n\u001b[0;31m    acc = (df['corrCheck'].value_counts()[1])/((df['corrCheck'].value_counts()[0])+(df['corrCheck'].value_counts()[1]))\u001b[0m\n\u001b[0m                                                                                                                       ^\u001b[0m\n\u001b[0;31mIndentationError\u001b[0m\u001b[0;31m:\u001b[0m unindent does not match any outer indentation level\n"
     ]
    }
   ],
   "source": [
    "#importing necessary packages\n",
    "import pandas as pd\n",
    "import numpy as np\n",
    "import scipy.stats as stats\n",
    "from glob import glob\n",
    "from scipy.stats import iqr\n",
    "from functools import reduce\n",
    "import AnalysisHelper as ah\n",
    "#can probably reduce this list"
   ]
  },
  {
   "cell_type": "markdown",
   "metadata": {},
   "source": [
    "Import Behavioral Data"
   ]
  },
  {
   "cell_type": "code",
   "execution_count": 2,
   "metadata": {},
   "outputs": [],
   "source": [
    "#import all CSV files for behavioral data from data folder to master raw dataframe\n",
    "MSDfiles = glob('/Users/sheaduarte/Desktop/MSduck_frog22220/data/*.csv')\n",
    "MSDraw = pd.concat([pd.read_csv(f) for f in MSDfiles ])"
   ]
  },
  {
   "cell_type": "code",
   "execution_count": null,
   "metadata": {},
   "outputs": [],
   "source": []
  },
  {
   "cell_type": "code",
   "execution_count": 11,
   "metadata": {},
   "outputs": [
    {
     "name": "stdout",
     "output_type": "stream",
     "text": [
      "0.9629629629629629\n",
      "0.9894179894179894\n",
      "0.9488536155202821\n",
      "0.9541446208112875\n",
      "0.9453262786596119\n",
      "0.9858906525573192\n",
      "0.9876543209876543\n",
      "0.9682539682539683\n",
      "0.9929453262786596\n",
      "0.9717813051146384\n"
     ]
    },
    {
     "data": {
      "text/html": [
       "<div>\n",
       "<style scoped>\n",
       "    .dataframe tbody tr th:only-of-type {\n",
       "        vertical-align: middle;\n",
       "    }\n",
       "\n",
       "    .dataframe tbody tr th {\n",
       "        vertical-align: top;\n",
       "    }\n",
       "\n",
       "    .dataframe thead th {\n",
       "        text-align: right;\n",
       "    }\n",
       "</style>\n",
       "<table border=\"1\" class=\"dataframe\">\n",
       "  <thead>\n",
       "    <tr style=\"text-align: right;\">\n",
       "      <th></th>\n",
       "    </tr>\n",
       "  </thead>\n",
       "  <tbody>\n",
       "  </tbody>\n",
       "</table>\n",
       "</div>"
      ],
      "text/plain": [
       "Empty DataFrame\n",
       "Columns: []\n",
       "Index: []"
      ]
     },
     "execution_count": 11,
     "metadata": {},
     "output_type": "execute_result"
    }
   ],
   "source": [
    "#calculate accuracy for each participant (calculates proportion correct)\n",
    "#create variable to check accuracy\n",
    "MSDraw['corrCheck'] = MSDraw['corrAns'] == MSDraw['key_resp_2.keys']\n",
    "\n",
    "# def SjAcc(df):\n",
    "#     acc = (df['corrCheck'].value_counts()[1])/((df['corrCheck'].value_counts()[0])+\n",
    "#                                                        (df['corrCheck'].value_counts()[1]))\n",
    "#     print(acc)\n",
    "\n",
    "\n",
    "\n",
    "#get accuracy for each participant\n",
    "MSDraw.groupby('participant').apply(ah.SjAcc)"
   ]
  },
  {
   "cell_type": "code",
   "execution_count": 12,
   "metadata": {},
   "outputs": [],
   "source": [
    "#remove practice trials from dataframe\n",
    "#MSD_minusPrac is the dataset that includes outliers and includes incorrect trials, it does not include practice trials\n",
    "MSD_minusPrac = MSDraw[MSDraw.expLab != 'prac'].loc[:, ['targetAnim', 'picL', 'picR', 'visualR','visualL','condLabel',\n",
    "                                                        'corrAns','audioPos','exp1a.thisRepN','exp1a.thisTrialN',\n",
    "                                                        'exp1a.thisN','exp1a.thisIndex','key_resp_2.keys',\n",
    "                                                        'key_resp_2.rt','date','frameRate','expName','participant', \n",
    "                                                        'corrCheck']]"
   ]
  },
  {
   "cell_type": "code",
   "execution_count": 13,
   "metadata": {},
   "outputs": [],
   "source": [
    "#rename columns\n",
    "MSD_minusPrac = MSD_minusPrac.rename(columns = {'picL': 'left anim', 'picR':'right anim', 'visualR':'right landolt','visualL':'left landolt',\n",
    "                         'condLabel': 'condition', 'exp1a.thisRepN': 'repetition','exp1a.thisTrialN': 'trial in rep',\n",
    "                         'exp1a.thisN': 'trial','exp1a.thisIndex':'trial idx','key_resp_2.keys':'key pressed',\n",
    "                         'key_resp_2.rt':'reaction time'})"
   ]
  },
  {
   "cell_type": "code",
   "execution_count": 14,
   "metadata": {},
   "outputs": [
    {
     "ename": "AttributeError",
     "evalue": "module 'AnalysisHelper' has no attribute 'remove_outliers'",
     "output_type": "error",
     "traceback": [
      "\u001b[0;31m---------------------------------------------------------------------------\u001b[0m",
      "\u001b[0;31mAttributeError\u001b[0m                            Traceback (most recent call last)",
      "\u001b[0;32m<ipython-input-14-3a7194950d34>\u001b[0m in \u001b[0;36m<module>\u001b[0;34m\u001b[0m\n\u001b[1;32m     12\u001b[0m \u001b[0;34m\u001b[0m\u001b[0m\n\u001b[1;32m     13\u001b[0m \u001b[0;34m\u001b[0m\u001b[0m\n\u001b[0;32m---> 14\u001b[0;31m \u001b[0mMSDall\u001b[0m \u001b[0;34m=\u001b[0m \u001b[0mMSD_minusPrac\u001b[0m\u001b[0;34m.\u001b[0m\u001b[0mgroupby\u001b[0m\u001b[0;34m(\u001b[0m\u001b[0;34m[\u001b[0m\u001b[0;34m'participant'\u001b[0m\u001b[0;34m,\u001b[0m\u001b[0;34m'condition'\u001b[0m\u001b[0;34m]\u001b[0m\u001b[0;34m)\u001b[0m\u001b[0;34m.\u001b[0m\u001b[0mapply\u001b[0m\u001b[0;34m(\u001b[0m\u001b[0mah\u001b[0m\u001b[0;34m.\u001b[0m\u001b[0mremove_outliers\u001b[0m\u001b[0;34m)\u001b[0m\u001b[0;34m\u001b[0m\u001b[0;34m\u001b[0m\u001b[0m\n\u001b[0m\u001b[1;32m     15\u001b[0m \u001b[0;31m#Add one to every trial number so that it starts at 1, not 0\u001b[0m\u001b[0;34m\u001b[0m\u001b[0;34m\u001b[0m\u001b[0;34m\u001b[0m\u001b[0m\n\u001b[1;32m     16\u001b[0m \u001b[0mMSDall\u001b[0m\u001b[0;34m[\u001b[0m\u001b[0;34m'trial'\u001b[0m\u001b[0;34m]\u001b[0m \u001b[0;34m+=\u001b[0m \u001b[0;36m1\u001b[0m\u001b[0;34m\u001b[0m\u001b[0;34m\u001b[0m\u001b[0m\n",
      "\u001b[0;31mAttributeError\u001b[0m: module 'AnalysisHelper' has no attribute 'remove_outliers'"
     ]
    }
   ],
   "source": [
    "#remove outliers for each participant for each condtion\n",
    "#split-apply-combine may be a better method for doing this (result in cleaner df)\n",
    "# def RemoveOutliers(df):\n",
    "#     IQR = iqr(df['reaction time'])\n",
    "#     outliers = IQR*1.5\n",
    "#     lowerOutliersCalc = (df['reaction time'].quantile([.25])) - outliers\n",
    "#     upperOutliersCalc = (df['reaction time'].quantile([.75])) + outliers\n",
    "#     lowerOutliers = lowerOutliersCalc.iloc[0]\n",
    "#     upperOutliers = upperOutliersCalc.iloc[0]\n",
    "#     cleanTrials = df[df['reaction time'].between(lowerOutliers, upperOutliers)]\n",
    "#     return(cleanTrials)\n",
    "\n",
    "\n",
    "MSDall = MSD_minusPrac.groupby(['participant','condition']).apply(ah.remove_outliers)\n",
    "#Add one to every trial number so that it starts at 1, not 0\n",
    "MSDall['trial'] += 1\n",
    "#MSDall has correct and incorrect trials, use only correct trials for most analyses\n",
    "MSD_behavioral = MSDall[MSDall['corrCheck'] == True]"
   ]
  },
  {
   "cell_type": "code",
   "execution_count": 20,
   "metadata": {},
   "outputs": [],
   "source": [
    "#reset indices\n",
    "MSDall = MSDall.reset_index(drop=True)\n",
    "MSDall.to_csv('/Users/sheaduarte/Desktop/MSduck_frog22220/MSDall.csv')\n",
    "MSD_behavioral = MSD_behavioral.reset_index(drop=True)"
   ]
  },
  {
   "cell_type": "markdown",
   "metadata": {},
   "source": [
    "Import Eyetracking Data"
   ]
  },
  {
   "cell_type": "code",
   "execution_count": 21,
   "metadata": {},
   "outputs": [],
   "source": [
    "#import all CSV files for behavioral data from data folder to master raw dataframe\n",
    "MSDeyeFiles = glob('/Users/sheaduarte/Desktop/MSduck_frog22220/eyetracking_data/*.csv')\n",
    "MSDeyeRaw = pd.concat([pd.read_csv(f) for f in MSDeyeFiles ])"
   ]
  },
  {
   "cell_type": "code",
   "execution_count": 22,
   "metadata": {},
   "outputs": [],
   "source": [
    "#rename columns of eye df for readability\n",
    "MSDeyeRaw = MSDeyeRaw.rename(columns = {'CURRENT_FIX_DURATION':'current fix dur', \n",
    "                                        'CURRENT_FIX_INDEX':'current fix idx',\n",
    "                                        'CURRENT_FIX_INTEREST_AREA_DWELL_TIME': 'current IA dwell',\n",
    "                                        'CURRENT_FIX_INTEREST_AREA_FIX_COUNT': 'current IA fix count', \n",
    "                                        'CURRENT_FIX_INTEREST_AREA_ID': 'current IA id',\n",
    "                                        'CURRENT_FIX_INTEREST_AREA_INDEX': 'current IA idx', \n",
    "                                        'CURRENT_FIX_INTEREST_AREA_LABEL':'current fix label',\n",
    "                                        'CURRENT_FIX_NEAREST_INTEREST_AREA': 'nearest IA', \n",
    "                                        'CURRENT_FIX_NEAREST_INTEREST_AREA_DISTANCE':'nearest IA distance',\n",
    "                                        'CURRENT_FIX_NEAREST_INTEREST_AREA_LABEL':'nearest IA label',\n",
    "                                        'CURRENT_FIX_RUN_DWELL_TIME':'current fix run dwell',\n",
    "                                        'CURRENT_FIX_START': 'current fix start',\n",
    "                                        'RECORDING_SESSION_LABEL':'participant',\n",
    "                                        'TRIAL_FIXATION_TOTAL':'total fixations',\n",
    "                                        'TRIAL_INDEX':'trial'})"
   ]
  },
  {
   "cell_type": "code",
   "execution_count": 23,
   "metadata": {},
   "outputs": [],
   "source": [
    "#create a more manageable eye dataframe\n",
    "def EyeDF_func(df):\n",
    "    EyeDF_cols = []\n",
    "    EyeDF = pd.DataFrame(columns = EyeDF_cols)\n",
    "    Fix0 = df[df['current fix idx'] == 1]\n",
    "    EyeDF['trial'] = Fix0['trial']\n",
    "    EyeDF['participant'] = Fix0['participant']\n",
    "    EyeDF['total fixations'] = Fix0['total fixations']\n",
    "    EyeDF['latency'] = Fix0['current fix dur']\n",
    "    EyeDF['fixation0'] = Fix0['nearest IA label']\n",
    "    keep_cols = ['trial', 'participant', 'nearest IA label', 'current fix dur']\n",
    "    Fix1 = df[df['current fix idx'] == 2]\n",
    "    Fix1 = Fix1[keep_cols]\n",
    "    Fix1 = Fix1.rename(columns = {'nearest IA label':'fixation1','current fix dur':'fix dur1'})\n",
    "    Fix2 = df[df['current fix idx'] == 3]\n",
    "    Fix2 = Fix2[keep_cols]\n",
    "    Fix2 = Fix2.rename(columns = {'nearest IA label':'fixation2','current fix dur':'fix dur2'})\n",
    "    Fix3 = df[df['current fix idx'] == 4]\n",
    "    Fix3 = Fix3[keep_cols]\n",
    "    Fix3 = Fix3.rename(columns = {'nearest IA label':'fixation3','current fix dur':'fix dur3'})\n",
    "    Fix4 = df[df['current fix idx'] == 5]\n",
    "    Fix4 = Fix4[keep_cols]\n",
    "    Fix4 = Fix4.rename(columns = {'nearest IA label':'fixation4','current fix dur':'fix dur4'})\n",
    "    Fix5 = df[df['current fix idx'] == 6]\n",
    "    Fix5 = Fix5[keep_cols]\n",
    "    Fix5 = Fix5.rename(columns = {'nearest IA label':'fixation5','current fix dur':'fix dur5'})\n",
    "    dfs = [EyeDF, Fix1, Fix2, Fix3, Fix4, Fix5]\n",
    "    EyeDF = reduce(lambda  left,right: pd.merge(left,right,on=['trial', 'participant'],how='outer'), dfs)\n",
    "    return EyeDF\n",
    "MSD_eye = EyeDF_func(MSDeyeRaw)"
   ]
  },
  {
   "cell_type": "markdown",
   "metadata": {},
   "source": [
    "Merge behavioral and eye data"
   ]
  },
  {
   "cell_type": "code",
   "execution_count": 24,
   "metadata": {},
   "outputs": [],
   "source": [
    "MSD = pd.merge(MSD_eye, MSD_behavioral, on =['trial', 'participant'], how = 'outer')"
   ]
  },
  {
   "cell_type": "code",
   "execution_count": 25,
   "metadata": {},
   "outputs": [],
   "source": [
    "#create CSV of Clean Data\n",
    "MSD.to_csv('/Users/sheaduarte/Desktop/MSduck_frog22220/MSD.csv')"
   ]
  },
  {
   "cell_type": "code",
   "execution_count": null,
   "metadata": {},
   "outputs": [],
   "source": []
  }
 ],
 "metadata": {
  "kernelspec": {
   "display_name": "Python 3",
   "language": "python",
   "name": "python3"
  },
  "language_info": {
   "codemirror_mode": {
    "name": "ipython",
    "version": 3
   },
   "file_extension": ".py",
   "mimetype": "text/x-python",
   "name": "python",
   "nbconvert_exporter": "python",
   "pygments_lexer": "ipython3",
   "version": "3.7.4"
  }
 },
 "nbformat": 4,
 "nbformat_minor": 2
}
