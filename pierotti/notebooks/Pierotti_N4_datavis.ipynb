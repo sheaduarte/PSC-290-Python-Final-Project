{
 "cells": [
  {
   "cell_type": "markdown",
   "metadata": {},
   "source": [
    "## Auditory N400: Data Visualization\n",
    "Elizabeth Pierotti // last updated 5.27.2020\n",
    "\n",
    "**Goal of this notebook:** import two dfs: one contains all data, and one contains the difference wave data. For the df with all data, I will create some plots that let me look at distributions between groups (bar plots, histograms, violin plots, boxplots). For the difference wave df, I want to look at a regression plot of some variables, and make a scatterplot matrix as well.\n",
    "\n",
    "\n",
    "### Set up:"
   ]
  },
  {
   "cell_type": "code",
   "execution_count": 1,
   "metadata": {},
   "outputs": [],
   "source": [
    "# import packages:\n",
    "import pandas as pd\n",
    "import os\n",
    "import altair as alt\n",
    "from altair_saver import save\n",
    "import seaborn as sns"
   ]
  },
  {
   "cell_type": "code",
   "execution_count": 2,
   "metadata": {},
   "outputs": [],
   "source": [
    "# change current directory to path that contains Analysis Helper\n",
    "os.chdir(os.path.dirname(os.path.abspath('/Users/elizabethpierotti/Documents/GitHub/PSC-290-Python-Final-Project/AnalysisHelper.py')))\n",
    "\n",
    "# import .py file with functions:\n",
    "import AnalysisHelper as ah"
   ]
  },
  {
   "cell_type": "code",
   "execution_count": 3,
   "metadata": {},
   "outputs": [],
   "source": [
    "# set up data and output directories:\n",
    "\n",
    "data_directory = '/Users/elizabethpierotti/Documents/GitHub/PSC-290-Python-Final-Project/pierotti/data/processed/'\n",
    "output_directory = '/Users/elizabethpierotti/Documents/GitHub/PSC-290-Python-Final-Project/pierotti/reports/figures/'"
   ]
  },
  {
   "cell_type": "code",
   "execution_count": 4,
   "metadata": {},
   "outputs": [
    {
     "data": {
      "text/html": [
       "<div>\n",
       "<style scoped>\n",
       "    .dataframe tbody tr th:only-of-type {\n",
       "        vertical-align: middle;\n",
       "    }\n",
       "\n",
       "    .dataframe tbody tr th {\n",
       "        vertical-align: top;\n",
       "    }\n",
       "\n",
       "    .dataframe thead th {\n",
       "        text-align: right;\n",
       "    }\n",
       "</style>\n",
       "<table border=\"1\" class=\"dataframe\">\n",
       "  <thead>\n",
       "    <tr style=\"text-align: right;\">\n",
       "      <th></th>\n",
       "      <th>ID</th>\n",
       "      <th>Group</th>\n",
       "      <th>Condition</th>\n",
       "      <th>Mean Amplitude</th>\n",
       "      <th>Age (months)</th>\n",
       "      <th>Time in Sound (months)</th>\n",
       "      <th>Age of Activation (months)</th>\n",
       "      <th>Region</th>\n",
       "    </tr>\n",
       "  </thead>\n",
       "  <tbody>\n",
       "    <tr>\n",
       "      <th>0</th>\n",
       "      <td>942</td>\n",
       "      <td>CI</td>\n",
       "      <td>Related</td>\n",
       "      <td>-15.608</td>\n",
       "      <td>56</td>\n",
       "      <td>43</td>\n",
       "      <td>13.0</td>\n",
       "      <td>Frontal</td>\n",
       "    </tr>\n",
       "    <tr>\n",
       "      <th>1</th>\n",
       "      <td>959</td>\n",
       "      <td>CI</td>\n",
       "      <td>Related</td>\n",
       "      <td>-8.930</td>\n",
       "      <td>57</td>\n",
       "      <td>17</td>\n",
       "      <td>40.0</td>\n",
       "      <td>Frontal</td>\n",
       "    </tr>\n",
       "    <tr>\n",
       "      <th>2</th>\n",
       "      <td>925</td>\n",
       "      <td>CI</td>\n",
       "      <td>Related</td>\n",
       "      <td>-12.589</td>\n",
       "      <td>58</td>\n",
       "      <td>52</td>\n",
       "      <td>6.0</td>\n",
       "      <td>Frontal</td>\n",
       "    </tr>\n",
       "    <tr>\n",
       "      <th>3</th>\n",
       "      <td>956</td>\n",
       "      <td>CI</td>\n",
       "      <td>Related</td>\n",
       "      <td>-7.367</td>\n",
       "      <td>58</td>\n",
       "      <td>5</td>\n",
       "      <td>53.0</td>\n",
       "      <td>Frontal</td>\n",
       "    </tr>\n",
       "    <tr>\n",
       "      <th>4</th>\n",
       "      <td>955</td>\n",
       "      <td>CI</td>\n",
       "      <td>Related</td>\n",
       "      <td>-2.817</td>\n",
       "      <td>61</td>\n",
       "      <td>49</td>\n",
       "      <td>12.0</td>\n",
       "      <td>Frontal</td>\n",
       "    </tr>\n",
       "    <tr>\n",
       "      <th>...</th>\n",
       "      <td>...</td>\n",
       "      <td>...</td>\n",
       "      <td>...</td>\n",
       "      <td>...</td>\n",
       "      <td>...</td>\n",
       "      <td>...</td>\n",
       "      <td>...</td>\n",
       "      <td>...</td>\n",
       "    </tr>\n",
       "    <tr>\n",
       "      <th>76</th>\n",
       "      <td>809</td>\n",
       "      <td>HG</td>\n",
       "      <td>Unrelated</td>\n",
       "      <td>-13.547</td>\n",
       "      <td>99</td>\n",
       "      <td>99</td>\n",
       "      <td>NaN</td>\n",
       "      <td>Frontal</td>\n",
       "    </tr>\n",
       "    <tr>\n",
       "      <th>77</th>\n",
       "      <td>N4C09</td>\n",
       "      <td>HG</td>\n",
       "      <td>Unrelated</td>\n",
       "      <td>-11.510</td>\n",
       "      <td>99</td>\n",
       "      <td>99</td>\n",
       "      <td>NaN</td>\n",
       "      <td>Frontal</td>\n",
       "    </tr>\n",
       "    <tr>\n",
       "      <th>78</th>\n",
       "      <td>850</td>\n",
       "      <td>HG</td>\n",
       "      <td>Unrelated</td>\n",
       "      <td>-22.286</td>\n",
       "      <td>124</td>\n",
       "      <td>124</td>\n",
       "      <td>NaN</td>\n",
       "      <td>Frontal</td>\n",
       "    </tr>\n",
       "    <tr>\n",
       "      <th>79</th>\n",
       "      <td>801</td>\n",
       "      <td>HG</td>\n",
       "      <td>Unrelated</td>\n",
       "      <td>-24.316</td>\n",
       "      <td>127</td>\n",
       "      <td>127</td>\n",
       "      <td>NaN</td>\n",
       "      <td>Frontal</td>\n",
       "    </tr>\n",
       "    <tr>\n",
       "      <th>80</th>\n",
       "      <td>803</td>\n",
       "      <td>HG</td>\n",
       "      <td>Unrelated</td>\n",
       "      <td>-15.158</td>\n",
       "      <td>128</td>\n",
       "      <td>128</td>\n",
       "      <td>NaN</td>\n",
       "      <td>Frontal</td>\n",
       "    </tr>\n",
       "  </tbody>\n",
       "</table>\n",
       "<p>81 rows × 8 columns</p>\n",
       "</div>"
      ],
      "text/plain": [
       "       ID Group  Condition  Mean Amplitude  Age (months)  \\\n",
       "0     942    CI    Related         -15.608            56   \n",
       "1     959    CI    Related          -8.930            57   \n",
       "2     925    CI    Related         -12.589            58   \n",
       "3     956    CI    Related          -7.367            58   \n",
       "4     955    CI    Related          -2.817            61   \n",
       "..    ...   ...        ...             ...           ...   \n",
       "76    809    HG  Unrelated         -13.547            99   \n",
       "77  N4C09    HG  Unrelated         -11.510            99   \n",
       "78    850    HG  Unrelated         -22.286           124   \n",
       "79    801    HG  Unrelated         -24.316           127   \n",
       "80    803    HG  Unrelated         -15.158           128   \n",
       "\n",
       "    Time in Sound (months)  Age of Activation (months)   Region  \n",
       "0                       43                        13.0  Frontal  \n",
       "1                       17                        40.0  Frontal  \n",
       "2                       52                         6.0  Frontal  \n",
       "3                        5                        53.0  Frontal  \n",
       "4                       49                        12.0  Frontal  \n",
       "..                     ...                         ...      ...  \n",
       "76                      99                         NaN  Frontal  \n",
       "77                      99                         NaN  Frontal  \n",
       "78                     124                         NaN  Frontal  \n",
       "79                     127                         NaN  Frontal  \n",
       "80                     128                         NaN  Frontal  \n",
       "\n",
       "[81 rows x 8 columns]"
      ]
     },
     "execution_count": 4,
     "metadata": {},
     "output_type": "execute_result"
    }
   ],
   "source": [
    "# read in interim and behavioral data:\n",
    "\n",
    "all_fname = 'all_data_processed.csv'\n",
    "diff_fname = 'diff_data_processed.csv'\n",
    "\n",
    "alldf = pd.read_csv(data_directory + all_fname)\n",
    "diffdf = pd.read_csv(data_directory + diff_fname)\n",
    "\n",
    "# preview all data df:\n",
    "alldf"
   ]
  },
  {
   "cell_type": "code",
   "execution_count": null,
   "metadata": {},
   "outputs": [],
   "source": [
    "# preview diff df:\n",
    "diffdf"
   ]
  },
  {
   "cell_type": "markdown",
   "metadata": {},
   "source": [
    "### All data visualization:"
   ]
  },
  {
   "cell_type": "code",
   "execution_count": 5,
   "metadata": {},
   "outputs": [
    {
     "data": {
      "text/html": [
       "\n",
       "<div id=\"altair-viz-95e60c8ded514dbe99ce4ac379084141\"></div>\n",
       "<script type=\"text/javascript\">\n",
       "  (function(spec, embedOpt){\n",
       "    let outputDiv = document.currentScript.previousElementSibling;\n",
       "    if (outputDiv.id !== \"altair-viz-95e60c8ded514dbe99ce4ac379084141\") {\n",
       "      outputDiv = document.getElementById(\"altair-viz-95e60c8ded514dbe99ce4ac379084141\");\n",
       "    }\n",
       "    const paths = {\n",
       "      \"vega\": \"https://cdn.jsdelivr.net/npm//vega@5?noext\",\n",
       "      \"vega-lib\": \"https://cdn.jsdelivr.net/npm//vega-lib?noext\",\n",
       "      \"vega-lite\": \"https://cdn.jsdelivr.net/npm//vega-lite@4.8.1?noext\",\n",
       "      \"vega-embed\": \"https://cdn.jsdelivr.net/npm//vega-embed@6?noext\",\n",
       "    };\n",
       "\n",
       "    function loadScript(lib) {\n",
       "      return new Promise(function(resolve, reject) {\n",
       "        var s = document.createElement('script');\n",
       "        s.src = paths[lib];\n",
       "        s.async = true;\n",
       "        s.onload = () => resolve(paths[lib]);\n",
       "        s.onerror = () => reject(`Error loading script: ${paths[lib]}`);\n",
       "        document.getElementsByTagName(\"head\")[0].appendChild(s);\n",
       "      });\n",
       "    }\n",
       "\n",
       "    function showError(err) {\n",
       "      outputDiv.innerHTML = `<div class=\"error\" style=\"color:red;\">${err}</div>`;\n",
       "      throw err;\n",
       "    }\n",
       "\n",
       "    function displayChart(vegaEmbed) {\n",
       "      vegaEmbed(outputDiv, spec, embedOpt)\n",
       "        .catch(err => showError(`Javascript Error: ${err.message}<br>This usually means there's a typo in your chart specification. See the javascript console for the full traceback.`));\n",
       "    }\n",
       "\n",
       "    if(typeof define === \"function\" && define.amd) {\n",
       "      requirejs.config({paths});\n",
       "      require([\"vega-embed\"], displayChart, err => showError(`Error loading script: ${err.message}`));\n",
       "    } else if (typeof vegaEmbed === \"function\") {\n",
       "      displayChart(vegaEmbed);\n",
       "    } else {\n",
       "      loadScript(\"vega\")\n",
       "        .then(() => loadScript(\"vega-lite\"))\n",
       "        .then(() => loadScript(\"vega-embed\"))\n",
       "        .catch(showError)\n",
       "        .then(() => displayChart(vegaEmbed));\n",
       "    }\n",
       "  })({\"config\": {\"view\": {\"continuousWidth\": 400, \"continuousHeight\": 300}}, \"data\": {\"name\": \"data-f25d3a48ad0a00ba6412daf9a601a2f1\"}, \"mark\": \"bar\", \"encoding\": {\"x\": {\"type\": \"quantitative\", \"bin\": true, \"field\": \"Age of Activation (months)\", \"title\": \"Age of Activation (months)\"}, \"y\": {\"type\": \"quantitative\", \"aggregate\": \"count\"}}, \"title\": \"Distribution of Age of Activation (months)\", \"$schema\": \"https://vega.github.io/schema/vega-lite/v4.8.1.json\", \"datasets\": {\"data-f25d3a48ad0a00ba6412daf9a601a2f1\": [{\"ID\": \"942\", \"Group\": \"CI\", \"Condition\": \"Related\", \"Mean Amplitude\": -15.607999999999999, \"Age (months)\": 56, \"Time in Sound (months)\": 43, \"Age of Activation (months)\": 13.0, \"Region\": \"Frontal\"}, {\"ID\": \"959\", \"Group\": \"CI\", \"Condition\": \"Related\", \"Mean Amplitude\": -8.93, \"Age (months)\": 57, \"Time in Sound (months)\": 17, \"Age of Activation (months)\": 40.0, \"Region\": \"Frontal\"}, {\"ID\": \"925\", \"Group\": \"CI\", \"Condition\": \"Related\", \"Mean Amplitude\": -12.589, \"Age (months)\": 58, \"Time in Sound (months)\": 52, \"Age of Activation (months)\": 6.0, \"Region\": \"Frontal\"}, {\"ID\": \"956\", \"Group\": \"CI\", \"Condition\": \"Related\", \"Mean Amplitude\": -7.367000000000001, \"Age (months)\": 58, \"Time in Sound (months)\": 5, \"Age of Activation (months)\": 53.0, \"Region\": \"Frontal\"}, {\"ID\": \"955\", \"Group\": \"CI\", \"Condition\": \"Related\", \"Mean Amplitude\": -2.8169999999999997, \"Age (months)\": 61, \"Time in Sound (months)\": 49, \"Age of Activation (months)\": 12.0, \"Region\": \"Frontal\"}, {\"ID\": \"904\", \"Group\": \"CI\", \"Condition\": \"Related\", \"Mean Amplitude\": -19.845, \"Age (months)\": 67, \"Time in Sound (months)\": 54, \"Age of Activation (months)\": 13.0, \"Region\": \"Frontal\"}, {\"ID\": \"911\", \"Group\": \"CI\", \"Condition\": \"Related\", \"Mean Amplitude\": -16.237000000000002, \"Age (months)\": 67, \"Time in Sound (months)\": 54, \"Age of Activation (months)\": 13.0, \"Region\": \"Frontal\"}, {\"ID\": \"919\", \"Group\": \"CI\", \"Condition\": \"Related\", \"Mean Amplitude\": -14.003, \"Age (months)\": 74, \"Time in Sound (months)\": 67, \"Age of Activation (months)\": 7.0, \"Region\": \"Frontal\"}, {\"ID\": \"945\", \"Group\": \"CI\", \"Condition\": \"Related\", \"Mean Amplitude\": -8.855, \"Age (months)\": 77, \"Time in Sound (months)\": 56, \"Age of Activation (months)\": 21.0, \"Region\": \"Frontal\"}, {\"ID\": \"961\", \"Group\": \"CI\", \"Condition\": \"Related\", \"Mean Amplitude\": -3.653, \"Age (months)\": 77, \"Time in Sound (months)\": 63, \"Age of Activation (months)\": 14.0, \"Region\": \"Frontal\"}, {\"ID\": \"903\", \"Group\": \"CI\", \"Condition\": \"Related\", \"Mean Amplitude\": -20.117, \"Age (months)\": 82, \"Time in Sound (months)\": 72, \"Age of Activation (months)\": 10.0, \"Region\": \"Frontal\"}, {\"ID\": \"936\", \"Group\": \"CI\", \"Condition\": \"Related\", \"Mean Amplitude\": 2.6010000000000004, \"Age (months)\": 86, \"Time in Sound (months)\": 71, \"Age of Activation (months)\": 15.0, \"Region\": \"Frontal\"}, {\"ID\": \"901\", \"Group\": \"CI\", \"Condition\": \"Related\", \"Mean Amplitude\": -28.02, \"Age (months)\": 86, \"Time in Sound (months)\": 68, \"Age of Activation (months)\": 18.0, \"Region\": \"Frontal\"}, {\"ID\": \"923\", \"Group\": \"CI\", \"Condition\": \"Related\", \"Mean Amplitude\": -8.112, \"Age (months)\": 87, \"Time in Sound (months)\": 56, \"Age of Activation (months)\": 31.0, \"Region\": \"Frontal\"}, {\"ID\": \"924\", \"Group\": \"CI\", \"Condition\": \"Related\", \"Mean Amplitude\": -7.386, \"Age (months)\": 87, \"Time in Sound (months)\": 74, \"Age of Activation (months)\": 13.0, \"Region\": \"Frontal\"}, {\"ID\": \"934\", \"Group\": \"CI\", \"Condition\": \"Related\", \"Mean Amplitude\": -6.9239999999999995, \"Age (months)\": 89, \"Time in Sound (months)\": 80, \"Age of Activation (months)\": 9.0, \"Region\": \"Frontal\"}, {\"ID\": \"951\", \"Group\": \"CI\", \"Condition\": \"Related\", \"Mean Amplitude\": -20.021, \"Age (months)\": 89, \"Time in Sound (months)\": 49, \"Age of Activation (months)\": 40.0, \"Region\": \"Frontal\"}, {\"ID\": \"913\", \"Group\": \"CI\", \"Condition\": \"Related\", \"Mean Amplitude\": -14.822000000000001, \"Age (months)\": 100, \"Time in Sound (months)\": 86, \"Age of Activation (months)\": 14.0, \"Region\": \"Frontal\"}, {\"ID\": \"910\", \"Group\": \"CI\", \"Condition\": \"Related\", \"Mean Amplitude\": -24.732, \"Age (months)\": 102, \"Time in Sound (months)\": 87, \"Age of Activation (months)\": 15.0, \"Region\": \"Frontal\"}, {\"ID\": \"941\", \"Group\": \"CI\", \"Condition\": \"Related\", \"Mean Amplitude\": -21.496, \"Age (months)\": 106, \"Time in Sound (months)\": 35, \"Age of Activation (months)\": 71.0, \"Region\": \"Frontal\"}, {\"ID\": \"947\", \"Group\": \"CI\", \"Condition\": \"Related\", \"Mean Amplitude\": -6.167000000000001, \"Age (months)\": 106, \"Time in Sound (months)\": 27, \"Age of Activation (months)\": 79.0, \"Region\": \"Frontal\"}, {\"ID\": \"935\", \"Group\": \"CI\", \"Condition\": \"Related\", \"Mean Amplitude\": -13.322000000000001, \"Age (months)\": 122, \"Time in Sound (months)\": 80, \"Age of Activation (months)\": 42.0, \"Region\": \"Frontal\"}, {\"ID\": \"937\", \"Group\": \"CI\", \"Condition\": \"Related\", \"Mean Amplitude\": -14.514000000000001, \"Age (months)\": 122, \"Time in Sound (months)\": 55, \"Age of Activation (months)\": 67.0, \"Region\": \"Frontal\"}, {\"ID\": \"857\", \"Group\": \"HG\", \"Condition\": \"Related\", \"Mean Amplitude\": -13.345999999999998, \"Age (months)\": 33, \"Time in Sound (months)\": 33, \"Age of Activation (months)\": null, \"Region\": \"Frontal\"}, {\"ID\": \"847\", \"Group\": \"HG\", \"Condition\": \"Related\", \"Mean Amplitude\": -3.141, \"Age (months)\": 43, \"Time in Sound (months)\": 43, \"Age of Activation (months)\": null, \"Region\": \"Frontal\"}, {\"ID\": \"858\", \"Group\": \"HG\", \"Condition\": \"Related\", \"Mean Amplitude\": -6.38, \"Age (months)\": 51, \"Time in Sound (months)\": 51, \"Age of Activation (months)\": null, \"Region\": \"Frontal\"}, {\"ID\": \"859\", \"Group\": \"HG\", \"Condition\": \"Related\", \"Mean Amplitude\": -7.24, \"Age (months)\": 52, \"Time in Sound (months)\": 52, \"Age of Activation (months)\": null, \"Region\": \"Frontal\"}, {\"ID\": \"841\", \"Group\": \"HG\", \"Condition\": \"Related\", \"Mean Amplitude\": -18.552, \"Age (months)\": 56, \"Time in Sound (months)\": 56, \"Age of Activation (months)\": null, \"Region\": \"Frontal\"}, {\"ID\": \"836\", \"Group\": \"HG\", \"Condition\": \"Related\", \"Mean Amplitude\": -16.369, \"Age (months)\": 59, \"Time in Sound (months)\": 59, \"Age of Activation (months)\": null, \"Region\": \"Frontal\"}, {\"ID\": \"846\", \"Group\": \"HG\", \"Condition\": \"Related\", \"Mean Amplitude\": -19.996, \"Age (months)\": 68, \"Time in Sound (months)\": 68, \"Age of Activation (months)\": null, \"Region\": \"Frontal\"}, {\"ID\": \"N4C01\", \"Group\": \"HG\", \"Condition\": \"Related\", \"Mean Amplitude\": -4.0089999999999995, \"Age (months)\": 61, \"Time in Sound (months)\": 61, \"Age of Activation (months)\": null, \"Region\": \"Frontal\"}, {\"ID\": \"842\", \"Group\": \"HG\", \"Condition\": \"Related\", \"Mean Amplitude\": -15.067, \"Age (months)\": 67, \"Time in Sound (months)\": 67, \"Age of Activation (months)\": null, \"Region\": \"Frontal\"}, {\"ID\": \"848\", \"Group\": \"HG\", \"Condition\": \"Related\", \"Mean Amplitude\": -13.677999999999999, \"Age (months)\": 74, \"Time in Sound (months)\": 74, \"Age of Activation (months)\": null, \"Region\": \"Frontal\"}, {\"ID\": \"N4C10\", \"Group\": \"HG\", \"Condition\": \"Related\", \"Mean Amplitude\": -6.016, \"Age (months)\": 82, \"Time in Sound (months)\": 82, \"Age of Activation (months)\": null, \"Region\": \"Frontal\"}, {\"ID\": \"N4C13\", \"Group\": \"HG\", \"Condition\": \"Related\", \"Mean Amplitude\": -28.008000000000003, \"Age (months)\": 85, \"Time in Sound (months)\": 85, \"Age of Activation (months)\": null, \"Region\": \"Frontal\"}, {\"ID\": \"809\", \"Group\": \"HG\", \"Condition\": \"Related\", \"Mean Amplitude\": -18.308, \"Age (months)\": 99, \"Time in Sound (months)\": 99, \"Age of Activation (months)\": null, \"Region\": \"Frontal\"}, {\"ID\": \"N4C09\", \"Group\": \"HG\", \"Condition\": \"Related\", \"Mean Amplitude\": -14.525, \"Age (months)\": 99, \"Time in Sound (months)\": 99, \"Age of Activation (months)\": null, \"Region\": \"Frontal\"}, {\"ID\": \"850\", \"Group\": \"HG\", \"Condition\": \"Related\", \"Mean Amplitude\": -15.107999999999999, \"Age (months)\": 124, \"Time in Sound (months)\": 124, \"Age of Activation (months)\": null, \"Region\": \"Frontal\"}, {\"ID\": \"801\", \"Group\": \"HG\", \"Condition\": \"Related\", \"Mean Amplitude\": -13.305, \"Age (months)\": 127, \"Time in Sound (months)\": 127, \"Age of Activation (months)\": null, \"Region\": \"Frontal\"}, {\"ID\": \"803\", \"Group\": \"HG\", \"Condition\": \"Related\", \"Mean Amplitude\": -11.741, \"Age (months)\": 128, \"Time in Sound (months)\": 128, \"Age of Activation (months)\": null, \"Region\": \"Frontal\"}, {\"ID\": \"942\", \"Group\": \"CI\", \"Condition\": \"Unrelated\", \"Mean Amplitude\": -19.676, \"Age (months)\": 56, \"Time in Sound (months)\": 43, \"Age of Activation (months)\": 13.0, \"Region\": \"Frontal\"}, {\"ID\": \"959\", \"Group\": \"CI\", \"Condition\": \"Unrelated\", \"Mean Amplitude\": -15.050999999999998, \"Age (months)\": 57, \"Time in Sound (months)\": 17, \"Age of Activation (months)\": 40.0, \"Region\": \"Frontal\"}, {\"ID\": \"925\", \"Group\": \"CI\", \"Condition\": \"Unrelated\", \"Mean Amplitude\": -15.04, \"Age (months)\": 58, \"Time in Sound (months)\": 52, \"Age of Activation (months)\": 6.0, \"Region\": \"Frontal\"}, {\"ID\": \"956\", \"Group\": \"CI\", \"Condition\": \"Unrelated\", \"Mean Amplitude\": -20.795, \"Age (months)\": 58, \"Time in Sound (months)\": 5, \"Age of Activation (months)\": 53.0, \"Region\": \"Frontal\"}, {\"ID\": \"955\", \"Group\": \"CI\", \"Condition\": \"Unrelated\", \"Mean Amplitude\": -2.8080000000000003, \"Age (months)\": 61, \"Time in Sound (months)\": 49, \"Age of Activation (months)\": 12.0, \"Region\": \"Frontal\"}, {\"ID\": \"904\", \"Group\": \"CI\", \"Condition\": \"Unrelated\", \"Mean Amplitude\": -20.64, \"Age (months)\": 67, \"Time in Sound (months)\": 54, \"Age of Activation (months)\": 13.0, \"Region\": \"Frontal\"}, {\"ID\": \"911\", \"Group\": \"CI\", \"Condition\": \"Unrelated\", \"Mean Amplitude\": -17.359, \"Age (months)\": 67, \"Time in Sound (months)\": 54, \"Age of Activation (months)\": 13.0, \"Region\": \"Frontal\"}, {\"ID\": \"919\", \"Group\": \"CI\", \"Condition\": \"Unrelated\", \"Mean Amplitude\": -15.457, \"Age (months)\": 74, \"Time in Sound (months)\": 67, \"Age of Activation (months)\": 7.0, \"Region\": \"Frontal\"}, {\"ID\": \"945\", \"Group\": \"CI\", \"Condition\": \"Unrelated\", \"Mean Amplitude\": -16.922, \"Age (months)\": 77, \"Time in Sound (months)\": 56, \"Age of Activation (months)\": 21.0, \"Region\": \"Frontal\"}, {\"ID\": \"961\", \"Group\": \"CI\", \"Condition\": \"Unrelated\", \"Mean Amplitude\": -19.604, \"Age (months)\": 77, \"Time in Sound (months)\": 63, \"Age of Activation (months)\": 14.0, \"Region\": \"Frontal\"}, {\"ID\": \"903\", \"Group\": \"CI\", \"Condition\": \"Unrelated\", \"Mean Amplitude\": -24.758000000000003, \"Age (months)\": 82, \"Time in Sound (months)\": 72, \"Age of Activation (months)\": 10.0, \"Region\": \"Frontal\"}, {\"ID\": \"921\", \"Group\": \"CI\", \"Condition\": \"Unrelated\", \"Mean Amplitude\": -33.187, \"Age (months)\": 82, \"Time in Sound (months)\": 46, \"Age of Activation (months)\": 36.0, \"Region\": \"Frontal\"}, {\"ID\": \"936\", \"Group\": \"CI\", \"Condition\": \"Unrelated\", \"Mean Amplitude\": -6.697, \"Age (months)\": 86, \"Time in Sound (months)\": 71, \"Age of Activation (months)\": 15.0, \"Region\": \"Frontal\"}, {\"ID\": \"901\", \"Group\": \"CI\", \"Condition\": \"Unrelated\", \"Mean Amplitude\": -3.359, \"Age (months)\": 86, \"Time in Sound (months)\": 68, \"Age of Activation (months)\": 18.0, \"Region\": \"Frontal\"}, {\"ID\": \"923\", \"Group\": \"CI\", \"Condition\": \"Unrelated\", \"Mean Amplitude\": -22.51, \"Age (months)\": 87, \"Time in Sound (months)\": 56, \"Age of Activation (months)\": 31.0, \"Region\": \"Frontal\"}, {\"ID\": \"924\", \"Group\": \"CI\", \"Condition\": \"Unrelated\", \"Mean Amplitude\": -18.952, \"Age (months)\": 87, \"Time in Sound (months)\": 74, \"Age of Activation (months)\": 13.0, \"Region\": \"Frontal\"}, {\"ID\": \"934\", \"Group\": \"CI\", \"Condition\": \"Unrelated\", \"Mean Amplitude\": -14.017000000000001, \"Age (months)\": 89, \"Time in Sound (months)\": 80, \"Age of Activation (months)\": 9.0, \"Region\": \"Frontal\"}, {\"ID\": \"951\", \"Group\": \"CI\", \"Condition\": \"Unrelated\", \"Mean Amplitude\": -19.705, \"Age (months)\": 89, \"Time in Sound (months)\": 49, \"Age of Activation (months)\": 40.0, \"Region\": \"Frontal\"}, {\"ID\": \"913\", \"Group\": \"CI\", \"Condition\": \"Unrelated\", \"Mean Amplitude\": -15.578, \"Age (months)\": 100, \"Time in Sound (months)\": 86, \"Age of Activation (months)\": 14.0, \"Region\": \"Frontal\"}, {\"ID\": \"910\", \"Group\": \"CI\", \"Condition\": \"Unrelated\", \"Mean Amplitude\": -35.342, \"Age (months)\": 102, \"Time in Sound (months)\": 87, \"Age of Activation (months)\": 15.0, \"Region\": \"Frontal\"}, {\"ID\": \"941\", \"Group\": \"CI\", \"Condition\": \"Unrelated\", \"Mean Amplitude\": -19.012, \"Age (months)\": 106, \"Time in Sound (months)\": 35, \"Age of Activation (months)\": 71.0, \"Region\": \"Frontal\"}, {\"ID\": \"947\", \"Group\": \"CI\", \"Condition\": \"Unrelated\", \"Mean Amplitude\": -19.223, \"Age (months)\": 106, \"Time in Sound (months)\": 27, \"Age of Activation (months)\": 79.0, \"Region\": \"Frontal\"}, {\"ID\": \"935\", \"Group\": \"CI\", \"Condition\": \"Unrelated\", \"Mean Amplitude\": -16.625, \"Age (months)\": 122, \"Time in Sound (months)\": 80, \"Age of Activation (months)\": 42.0, \"Region\": \"Frontal\"}, {\"ID\": \"937\", \"Group\": \"CI\", \"Condition\": \"Unrelated\", \"Mean Amplitude\": -27.730999999999998, \"Age (months)\": 122, \"Time in Sound (months)\": 55, \"Age of Activation (months)\": 67.0, \"Region\": \"Frontal\"}, {\"ID\": \"857\", \"Group\": \"HG\", \"Condition\": \"Unrelated\", \"Mean Amplitude\": -8.052999999999999, \"Age (months)\": 33, \"Time in Sound (months)\": 33, \"Age of Activation (months)\": null, \"Region\": \"Frontal\"}, {\"ID\": \"847\", \"Group\": \"HG\", \"Condition\": \"Unrelated\", \"Mean Amplitude\": -2.966, \"Age (months)\": 43, \"Time in Sound (months)\": 43, \"Age of Activation (months)\": null, \"Region\": \"Frontal\"}, {\"ID\": \"858\", \"Group\": \"HG\", \"Condition\": \"Unrelated\", \"Mean Amplitude\": -18.587, \"Age (months)\": 51, \"Time in Sound (months)\": 51, \"Age of Activation (months)\": null, \"Region\": \"Frontal\"}, {\"ID\": \"859\", \"Group\": \"HG\", \"Condition\": \"Unrelated\", \"Mean Amplitude\": -7.7, \"Age (months)\": 52, \"Time in Sound (months)\": 52, \"Age of Activation (months)\": null, \"Region\": \"Frontal\"}, {\"ID\": \"841\", \"Group\": \"HG\", \"Condition\": \"Unrelated\", \"Mean Amplitude\": -28.017, \"Age (months)\": 56, \"Time in Sound (months)\": 56, \"Age of Activation (months)\": null, \"Region\": \"Frontal\"}, {\"ID\": \"836\", \"Group\": \"HG\", \"Condition\": \"Unrelated\", \"Mean Amplitude\": -8.181000000000001, \"Age (months)\": 59, \"Time in Sound (months)\": 59, \"Age of Activation (months)\": null, \"Region\": \"Frontal\"}, {\"ID\": \"846\", \"Group\": \"HG\", \"Condition\": \"Unrelated\", \"Mean Amplitude\": -27.160999999999998, \"Age (months)\": 68, \"Time in Sound (months)\": 68, \"Age of Activation (months)\": null, \"Region\": \"Frontal\"}, {\"ID\": \"N4C01\", \"Group\": \"HG\", \"Condition\": \"Unrelated\", \"Mean Amplitude\": -17.461, \"Age (months)\": 61, \"Time in Sound (months)\": 61, \"Age of Activation (months)\": null, \"Region\": \"Frontal\"}, {\"ID\": \"842\", \"Group\": \"HG\", \"Condition\": \"Unrelated\", \"Mean Amplitude\": -18.281, \"Age (months)\": 67, \"Time in Sound (months)\": 67, \"Age of Activation (months)\": null, \"Region\": \"Frontal\"}, {\"ID\": \"848\", \"Group\": \"HG\", \"Condition\": \"Unrelated\", \"Mean Amplitude\": -15.100999999999999, \"Age (months)\": 74, \"Time in Sound (months)\": 74, \"Age of Activation (months)\": null, \"Region\": \"Frontal\"}, {\"ID\": \"N4C10\", \"Group\": \"HG\", \"Condition\": \"Unrelated\", \"Mean Amplitude\": -9.488999999999999, \"Age (months)\": 82, \"Time in Sound (months)\": 82, \"Age of Activation (months)\": null, \"Region\": \"Frontal\"}, {\"ID\": \"N4C13\", \"Group\": \"HG\", \"Condition\": \"Unrelated\", \"Mean Amplitude\": -25.546999999999997, \"Age (months)\": 85, \"Time in Sound (months)\": 85, \"Age of Activation (months)\": null, \"Region\": \"Frontal\"}, {\"ID\": \"809\", \"Group\": \"HG\", \"Condition\": \"Unrelated\", \"Mean Amplitude\": -13.547, \"Age (months)\": 99, \"Time in Sound (months)\": 99, \"Age of Activation (months)\": null, \"Region\": \"Frontal\"}, {\"ID\": \"N4C09\", \"Group\": \"HG\", \"Condition\": \"Unrelated\", \"Mean Amplitude\": -11.51, \"Age (months)\": 99, \"Time in Sound (months)\": 99, \"Age of Activation (months)\": null, \"Region\": \"Frontal\"}, {\"ID\": \"850\", \"Group\": \"HG\", \"Condition\": \"Unrelated\", \"Mean Amplitude\": -22.285999999999998, \"Age (months)\": 124, \"Time in Sound (months)\": 124, \"Age of Activation (months)\": null, \"Region\": \"Frontal\"}, {\"ID\": \"801\", \"Group\": \"HG\", \"Condition\": \"Unrelated\", \"Mean Amplitude\": -24.316, \"Age (months)\": 127, \"Time in Sound (months)\": 127, \"Age of Activation (months)\": null, \"Region\": \"Frontal\"}, {\"ID\": \"803\", \"Group\": \"HG\", \"Condition\": \"Unrelated\", \"Mean Amplitude\": -15.158, \"Age (months)\": 128, \"Time in Sound (months)\": 128, \"Age of Activation (months)\": null, \"Region\": \"Frontal\"}]}}, {\"mode\": \"vega-lite\"});\n",
       "</script>"
      ],
      "text/plain": [
       "alt.Chart(...)"
      ]
     },
     "execution_count": 5,
     "metadata": {},
     "output_type": "execute_result"
    }
   ],
   "source": [
    "# histogram of age of activation:\n",
    "ah.histogram(alldf, 'Age of Activation (months)', output_directory)"
   ]
  },
  {
   "cell_type": "code",
   "execution_count": null,
   "metadata": {},
   "outputs": [],
   "source": [
    "# histogram of time in sound:\n",
    "ah.histogram(alldf, 'Time in Sound (months)', output_directory)"
   ]
  },
  {
   "cell_type": "code",
   "execution_count": 9,
   "metadata": {},
   "outputs": [
    {
     "data": {
      "text/plain": [
       "<seaborn.axisgrid.FacetGrid at 0x1a227aff50>"
      ]
     },
     "execution_count": 9,
     "metadata": {},
     "output_type": "execute_result"
    },
    {
     "data": {
      "image/png": "[encoded data removed]",
      "text/plain": [
       "<Figure size 519.475x432 with 1 Axes>"
      ]
     },
     "metadata": {},
     "output_type": "display_data"
    }
   ],
   "source": [
    "# bar plot of group differences in MNA:\n",
    "ah.bar_graph(alldf, 'Group', 'Mean Amplitude', 'Condition', output_directory, 'pastel', 'whitegrid')"
   ]
  },
  {
   "cell_type": "code",
   "execution_count": null,
   "metadata": {},
   "outputs": [],
   "source": [
    "# violin plot of group differences in MNA:\n",
    "ah.violin(alldf, 'Group', 'Mean Amplitude', 'Condition', 'Set2', 'white')"
   ]
  },
  {
   "cell_type": "code",
   "execution_count": null,
   "metadata": {},
   "outputs": [],
   "source": [
    "# box plot of group differences in MNA:\n",
    "ah.boxplot(alldf, 'Group', 'Mean Amplitude', 'Condition', 'bright')"
   ]
  },
  {
   "cell_type": "markdown",
   "metadata": {},
   "source": [
    "### Difference data visualization:"
   ]
  },
  {
   "cell_type": "code",
   "execution_count": null,
   "metadata": {},
   "outputs": [],
   "source": [
    "# histogram of diff MNA values:\n",
    "ah.histogram(diffdf, 'Mean Amplitude', output_directory)"
   ]
  },
  {
   "cell_type": "code",
   "execution_count": null,
   "metadata": {},
   "outputs": [],
   "source": [
    "# regression plot of time in sound and MNA diff (color code by group):\n",
    "ah.regression_plot(diffdf, 'Time in Sound (months)', 'Mean Amplitude Difference', 'Group', output_directory, 'husl')"
   ]
  },
  {
   "cell_type": "code",
   "execution_count": null,
   "metadata": {},
   "outputs": [],
   "source": [
    "# scatter plot of age of implant and MNA diff (include tooltip interactivity):\n",
    "\n",
    "varlist = ['ID', 'Bilingual', 'Age (months)', 'Time in Sound (months)'] # for tooltip interactivity\n",
    "ah.scatter_plot(diffdf, 'Age of Activation (months)', 'Mean Amplitude Difference', 'Bilingual', varlist, output_directory, 'set1')"
   ]
  },
  {
   "cell_type": "code",
   "execution_count": null,
   "metadata": {},
   "outputs": [],
   "source": [
    "# scatter plot matrix of different variables (TiS, age of implant, MNA):\n",
    "x_list = ['Time in Sound (months)', 'Age of Activation (months)', 'Mean Amplitude Difference']\n",
    "ah.scatter_matrix(diffdf, x_list, 'Bilingual', output_directory)"
   ]
  },
  {
   "cell_type": "code",
   "execution_count": null,
   "metadata": {},
   "outputs": [],
   "source": []
  },
  {
   "cell_type": "code",
   "execution_count": null,
   "metadata": {},
   "outputs": [],
   "source": []
  }
 ],
 "metadata": {
  "kernelspec": {
   "display_name": "Python 3",
   "language": "python",
   "name": "python3"
  },
  "language_info": {
   "codemirror_mode": {
    "name": "ipython",
    "version": 3
   },
   "file_extension": ".py",
   "mimetype": "text/x-python",
   "name": "python",
   "nbconvert_exporter": "python",
   "pygments_lexer": "ipython3",
   "version": "3.7.6"
  }
 },
 "nbformat": 4,
 "nbformat_minor": 4
}
